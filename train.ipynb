{
 "cells": [
  {
   "cell_type": "markdown",
   "metadata": {
    "collapsed": false
   },
   "source": [
    "### 导入库"
   ]
  },
  {
   "cell_type": "code",
   "execution_count": 1,
   "metadata": {
    "collapsed": false
   },
   "outputs": [
    {
     "name": "stderr",
     "output_type": "stream",
     "text": [
      "Using TensorFlow backend.\n"
     ]
    }
   ],
   "source": [
    "import os,shutil\n",
    "from PIL import Image\n",
    "import matplotlib.pyplot as plt\n",
    "import numpy as np\n",
    "from keras.utils import np_utils\n",
    "from keras.models import Sequential\n",
    "from keras.layers.core import Dense, Dropout, Activation, Flatten\n",
    "from keras.optimizers import SGD, RMSprop, Adam\n",
    "from keras.layers import Conv2D, MaxPooling2D"
   ]
  },
  {
   "cell_type": "markdown",
   "metadata": {},
   "source": [
    "### 查看数据集"
   ]
  },
  {
   "cell_type": "code",
   "execution_count": 3,
   "metadata": {
    "collapsed": false
   },
   "outputs": [
    {
     "name": "stdout",
     "output_type": "stream",
     "text": [
      "tatal training machine images: 29\n",
      "tatal test machine images: 21\n",
      "tatal on machine images: 25\n",
      "tatal on machine images: 25\n"
     ]
    }
   ],
   "source": [
    "base_dir = './'\n",
    "train_dir = os.path.join(base_dir, 'train')\n",
    "print('tatal training machine images:', len(os.listdir(train_dir)))\n",
    "test_dir = os.path.join(base_dir, 'test')\n",
    "print('tatal test machine images:', len(os.listdir(test_dir)))\n",
    "train_on_dir = os.path.join(base_dir, 'on')\n",
    "print('tatal on machine images:', len(os.listdir(train_on_dir)))\n",
    "train_off_dir = os.path.join(base_dir, 'off')\n",
    "print('tatal on machine images:', len(os.listdir(train_off_dir)))"
   ]
  },
  {
   "cell_type": "markdown",
   "metadata": {},
   "source": [
    "### 构建卷及神经网络"
   ]
  },
  {
   "cell_type": "code",
   "execution_count": 4,
   "metadata": {
    "collapsed": true
   },
   "outputs": [],
   "source": [
    "model = Sequential()\n",
    "\n",
    "model.add(Conv2D(32, (3, 3), activation='relu', input_shape=(100, 100, 3)))\n",
    "model.add(Conv2D(32, (3, 3), activation='relu'))\n",
    "model.add(MaxPooling2D(pool_size=(2, 2)))\n",
    "model.add(Dropout(0.25))\n",
    "\n",
    "model.add(Conv2D(64, (3, 3), activation='relu'))\n",
    "model.add(Conv2D(64, (3, 3), activation='relu'))\n",
    "model.add(MaxPooling2D(pool_size=(2, 2)))\n",
    "model.add(Dropout(0.25))\n",
    "\n",
    "model.add(Flatten())\n",
    "model.add(Dense(256, activation='relu'))\n",
    "model.add(Dropout(0.5))\n",
    "model.add(Dense(2, activation='softmax'))\n",
    "sgd = SGD(lr=0.01, decay=1e-6, momentum=0.9, nesterov=True)"
   ]
  },
  {
   "cell_type": "markdown",
   "metadata": {},
   "source": [
    "### 每一层的参数"
   ]
  },
  {
   "cell_type": "code",
   "execution_count": 5,
   "metadata": {
    "collapsed": false
   },
   "outputs": [
    {
     "name": "stdout",
     "output_type": "stream",
     "text": [
      "_________________________________________________________________\n",
      "Layer (type)                 Output Shape              Param #   \n",
      "=================================================================\n",
      "conv2d_1 (Conv2D)            (None, 98, 98, 32)        896       \n",
      "_________________________________________________________________\n",
      "conv2d_2 (Conv2D)            (None, 96, 96, 32)        9248      \n",
      "_________________________________________________________________\n",
      "max_pooling2d_1 (MaxPooling2 (None, 48, 48, 32)        0         \n",
      "_________________________________________________________________\n",
      "dropout_1 (Dropout)          (None, 48, 48, 32)        0         \n",
      "_________________________________________________________________\n",
      "conv2d_3 (Conv2D)            (None, 46, 46, 64)        18496     \n",
      "_________________________________________________________________\n",
      "conv2d_4 (Conv2D)            (None, 44, 44, 64)        36928     \n",
      "_________________________________________________________________\n",
      "max_pooling2d_2 (MaxPooling2 (None, 22, 22, 64)        0         \n",
      "_________________________________________________________________\n",
      "dropout_2 (Dropout)          (None, 22, 22, 64)        0         \n",
      "_________________________________________________________________\n",
      "flatten_1 (Flatten)          (None, 30976)             0         \n",
      "_________________________________________________________________\n",
      "dense_1 (Dense)              (None, 256)               7930112   \n",
      "_________________________________________________________________\n",
      "dropout_3 (Dropout)          (None, 256)               0         \n",
      "_________________________________________________________________\n",
      "dense_2 (Dense)              (None, 2)                 514       \n",
      "=================================================================\n",
      "Total params: 7,996,194\n",
      "Trainable params: 7,996,194\n",
      "Non-trainable params: 0\n",
      "_________________________________________________________________\n"
     ]
    }
   ],
   "source": [
    "model.summary()"
   ]
  },
  {
   "cell_type": "markdown",
   "metadata": {},
   "source": [
    "### 数据预处理"
   ]
  },
  {
   "cell_type": "code",
   "execution_count": 6,
   "metadata": {
    "collapsed": false
   },
   "outputs": [],
   "source": [
    "ima1 = os.listdir('./train') #目标目录\n",
    "def read_image1(filename):\n",
    "    img = Image.open('./train/'+filename).convert('RGB')\n",
    "    return np.array(img)\n",
    "\n",
    "x_train = []\n",
    "\n",
    "for i in ima1:\n",
    "    x_train.append(read_image1(i))\n",
    "\n",
    "x_train = np.array(x_train)\n",
    "\n",
    "y_train = []\n",
    "for filename in ima1:\n",
    "    y_train.append(int(filename.split('_')[0]))\n",
    "\n",
    "y_train = np.array(y_train)"
   ]
  },
  {
   "cell_type": "code",
   "execution_count": 7,
   "metadata": {
    "collapsed": false
   },
   "outputs": [],
   "source": [
    "ima2 = os.listdir('./test')\n",
    "def read_image2(filename):\n",
    "    img = Image.open('./test/'+filename).convert('RGB')\n",
    "    return np.array(img)\n",
    "\n",
    "x_test = []\n",
    "\n",
    "for i in ima2:\n",
    "    x_test.append(read_image2(i))\n",
    "\n",
    "x_test = np.array(x_test)\n",
    "# print(x_test)\n",
    "y_test = []\n",
    "for filename in ima2:\n",
    "    y_test.append(int(filename.split('_')[0]))\n",
    "\n",
    "y_test = np.array(y_test)\n",
    "# print(y_test)\n",
    "y_train = np_utils.to_categorical(y_train)\n",
    "y_test = np_utils.to_categorical(y_test)\n",
    "# print(y_train, y_test)\n",
    "#\n",
    "x_train = x_train.astype('float32')\n",
    "x_test = x_test.astype('float32')\n",
    "\n",
    "#将所有图像乘以１/２５５缩放\n",
    "x_train /= 255\n",
    "x_test /= 255"
   ]
  },
  {
   "cell_type": "code",
   "execution_count": 8,
   "metadata": {
    "collapsed": false
   },
   "outputs": [
    {
     "name": "stdout",
     "output_type": "stream",
     "text": [
      "Train on 29 samples, validate on 21 samples\n",
      "Epoch 1/32\n",
      "29/29 [==============================] - 18s 629ms/step - loss: 0.6938 - acc: 0.5172 - val_loss: 0.6916 - val_acc: 0.4286\n",
      "Epoch 2/32\n",
      "29/29 [==============================] - 0s 4ms/step - loss: 0.6903 - acc: 0.5172 - val_loss: 0.6741 - val_acc: 0.4286\n",
      "Epoch 3/32\n",
      "29/29 [==============================] - 0s 4ms/step - loss: 0.6109 - acc: 0.7241 - val_loss: 0.6205 - val_acc: 0.9524\n",
      "Epoch 4/32\n",
      "29/29 [==============================] - 0s 4ms/step - loss: 0.5825 - acc: 0.8621 - val_loss: 0.5211 - val_acc: 0.9524\n",
      "Epoch 5/32\n",
      "29/29 [==============================] - 0s 4ms/step - loss: 0.4457 - acc: 0.7931 - val_loss: 0.4042 - val_acc: 0.8571\n",
      "Epoch 6/32\n",
      "29/29 [==============================] - 0s 4ms/step - loss: 0.3460 - acc: 0.9310 - val_loss: 0.0776 - val_acc: 1.0000\n",
      "Epoch 7/32\n",
      "29/29 [==============================] - 0s 4ms/step - loss: 0.0815 - acc: 1.0000 - val_loss: 0.0140 - val_acc: 1.0000\n",
      "Epoch 8/32\n",
      "29/29 [==============================] - 0s 4ms/step - loss: 0.0099 - acc: 1.0000 - val_loss: 0.0014 - val_acc: 1.0000\n",
      "Epoch 9/32\n",
      "29/29 [==============================] - 0s 4ms/step - loss: 0.2231 - acc: 0.8966 - val_loss: 0.0092 - val_acc: 1.0000\n",
      "Epoch 10/32\n",
      "29/29 [==============================] - 0s 4ms/step - loss: 0.0313 - acc: 1.0000 - val_loss: 0.0480 - val_acc: 1.0000\n",
      "Epoch 11/32\n",
      "29/29 [==============================] - 0s 4ms/step - loss: 0.0410 - acc: 1.0000 - val_loss: 0.0078 - val_acc: 1.0000\n",
      "Epoch 12/32\n",
      "29/29 [==============================] - 0s 4ms/step - loss: 0.0130 - acc: 1.0000 - val_loss: 9.1971e-04 - val_acc: 1.0000\n",
      "Epoch 13/32\n",
      "29/29 [==============================] - 0s 4ms/step - loss: 0.0058 - acc: 1.0000 - val_loss: 1.1445e-04 - val_acc: 1.0000\n",
      "Epoch 14/32\n",
      "29/29 [==============================] - 0s 4ms/step - loss: 0.0072 - acc: 1.0000 - val_loss: 1.0851e-05 - val_acc: 1.0000\n",
      "Epoch 15/32\n",
      "29/29 [==============================] - 0s 4ms/step - loss: 0.0015 - acc: 1.0000 - val_loss: 1.3851e-06 - val_acc: 1.0000\n",
      "Epoch 16/32\n",
      "29/29 [==============================] - 0s 5ms/step - loss: 0.0024 - acc: 1.0000 - val_loss: 2.8951e-07 - val_acc: 1.0000\n",
      "Epoch 17/32\n",
      "29/29 [==============================] - 0s 4ms/step - loss: 6.0993e-05 - acc: 1.0000 - val_loss: 1.6178e-07 - val_acc: 1.0000\n",
      "Epoch 18/32\n",
      "29/29 [==============================] - 0s 4ms/step - loss: 1.8547e-05 - acc: 1.0000 - val_loss: 1.4192e-07 - val_acc: 1.0000\n",
      "Epoch 19/32\n",
      "29/29 [==============================] - 0s 4ms/step - loss: 5.0586e-04 - acc: 1.0000 - val_loss: 1.4759e-07 - val_acc: 1.0000\n",
      "Epoch 20/32\n",
      "29/29 [==============================] - 0s 5ms/step - loss: 4.4438e-05 - acc: 1.0000 - val_loss: 1.5327e-07 - val_acc: 1.0000\n",
      "Epoch 21/32\n",
      "29/29 [==============================] - 0s 4ms/step - loss: 4.2847e-04 - acc: 1.0000 - val_loss: 1.6462e-07 - val_acc: 1.0000\n",
      "Epoch 22/32\n",
      "29/29 [==============================] - 0s 4ms/step - loss: 1.6258e-06 - acc: 1.0000 - val_loss: 1.7881e-07 - val_acc: 1.0000\n",
      "Epoch 23/32\n",
      "29/29 [==============================] - 0s 4ms/step - loss: 3.5784e-06 - acc: 1.0000 - val_loss: 1.8733e-07 - val_acc: 1.0000\n",
      "Epoch 24/32\n",
      "29/29 [==============================] - 0s 4ms/step - loss: 5.7552e-06 - acc: 1.0000 - val_loss: 1.9868e-07 - val_acc: 1.0000\n",
      "Epoch 25/32\n",
      "29/29 [==============================] - 0s 4ms/step - loss: 2.4086e-05 - acc: 1.0000 - val_loss: 2.0436e-07 - val_acc: 1.0000\n",
      "Epoch 26/32\n",
      "29/29 [==============================] - 0s 4ms/step - loss: 2.5897e-04 - acc: 1.0000 - val_loss: 1.9301e-07 - val_acc: 1.0000\n",
      "Epoch 27/32\n",
      "29/29 [==============================] - 0s 4ms/step - loss: 1.6150e-05 - acc: 1.0000 - val_loss: 1.8165e-07 - val_acc: 1.0000\n",
      "Epoch 28/32\n",
      "29/29 [==============================] - 0s 4ms/step - loss: 7.0704e-07 - acc: 1.0000 - val_loss: 1.7314e-07 - val_acc: 1.0000\n",
      "Epoch 29/32\n",
      "29/29 [==============================] - 0s 4ms/step - loss: 5.4859e-06 - acc: 1.0000 - val_loss: 1.6746e-07 - val_acc: 1.0000\n",
      "Epoch 30/32\n",
      "29/29 [==============================] - 0s 5ms/step - loss: 1.4599e-04 - acc: 1.0000 - val_loss: 1.6462e-07 - val_acc: 1.0000\n",
      "Epoch 31/32\n",
      "29/29 [==============================] - 0s 4ms/step - loss: 1.5147e-04 - acc: 1.0000 - val_loss: 1.5895e-07 - val_acc: 1.0000\n",
      "Epoch 32/32\n",
      "29/29 [==============================] - 0s 4ms/step - loss: 6.9265e-07 - acc: 1.0000 - val_loss: 1.5327e-07 - val_acc: 1.0000\n",
      "21/21 [==============================] - 0s 1ms/step\n",
      "[1.5326911566370697e-07, 1.0]\n"
     ]
    }
   ],
   "source": [
    "#训练模型\n",
    "model.compile(loss='categorical_crossentropy', optimizer=sgd, metrics=['accuracy'])\n",
    "history = model.fit(x_train, y_train, batch_size=10, epochs=32, verbose=1, validation_data=(x_test, y_test))\n",
    "#保存模型\n",
    "model.save_weights('./on_and_off.h5', overwrite=True)\n",
    "\n",
    "#评估模型\n",
    "score = model.evaluate(x_test, y_test, batch_size=10)\n",
    "print(score)"
   ]
  },
  {
   "cell_type": "markdown",
   "metadata": {},
   "source": [
    "### 绘制结果"
   ]
  },
  {
   "cell_type": "code",
   "execution_count": 10,
   "metadata": {
    "collapsed": false
   },
   "outputs": [
    {
     "data": {
      "image/png": "[encoded data removed]",
      "text/plain": [
       "<Figure size 432x288 with 1 Axes>"
      ]
     },
     "metadata": {},
     "output_type": "display_data"
    },
    {
     "data": {
      "image/png": "[encoded data removed]",
      "text/plain": [
       "<Figure size 432x288 with 1 Axes>"
      ]
     },
     "metadata": {},
     "output_type": "display_data"
    }
   ],
   "source": [
    "acc = history.history['acc']\n",
    "val_acc = history.history['val_acc']\n",
    "loss = history.history['loss']\n",
    "val_loss = history.history['val_loss']\n",
    "\n",
    "epochs = range(1, len(acc) + 1)\n",
    "\n",
    "plt.plot(epochs, acc, 'bo', label='Training acc')\n",
    "plt.plot(epochs, val_acc, 'b', label='Validation acc')\n",
    "plt.title('Training and Validation accuracy')\n",
    "plt.legend()\n",
    "\n",
    "plt.figure()\n",
    "\n",
    "plt.plot(epochs, loss, 'bo', label='Training loss')\n",
    "plt.plot(epochs, val_loss , 'b', label='Validation loss')\n",
    "plt.title('Training and validation loss')\n",
    "plt.legend()\n",
    "\n",
    "plt.show()"
   ]
  }
 ],
 "metadata": {
  "anaconda-cloud": {},
  "kernelspec": {
   "display_name": "Python [default]",
   "language": "python",
   "name": "python3"
  },
  "language_info": {
   "codemirror_mode": {
    "name": "ipython",
    "version": 3
   },
   "file_extension": ".py",
   "mimetype": "text/x-python",
   "name": "python",
   "nbconvert_exporter": "python",
   "pygments_lexer": "ipython3",
   "version": "3.5.4"
  }
 },
 "nbformat": 4,
 "nbformat_minor": 1
}
