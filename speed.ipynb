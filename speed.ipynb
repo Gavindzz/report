{
 "cells": [
  {
   "cell_type": "code",
   "execution_count": 1,
   "metadata": {
    "collapsed": false
   },
   "outputs": [],
   "source": [
    "import os\n",
    "os.environ['CUDA_VISIBLE_DEVICES'] = '1'\n",
    "\n",
    "import tensorflow as tf\n",
    "import numpy as np\n",
    "import time\n",
    "\n",
    "import sys\n",
    "sys.path.append('/home/gavin/下载/tensorflow/tensorflow/models/research/slim/')\n",
    "#from tensorflow.python.keras._impl.keras.models import Model \n",
    "#from nets.mobilenet_v1 import mobilenet_v1\n",
    "#from nets.mobilenet.mobilenet_v2 import mobilenet\n",
    "from DxNet import DxNet"
   ]
  },
  {
   "cell_type": "code",
   "execution_count": 2,
   "metadata": {
    "collapsed": false
   },
   "outputs": [],
   "source": [
    "tf.reset_default_graph()\n",
    "\n",
    "BATCH_SIZE = 8\n",
    "random_batch = tf.constant(np.random.randn(BATCH_SIZE, 224, 224, 3), dtype=tf.float32)\n",
    "\n",
    "# uncomment only one:\n",
    "# logits, _ = mobilenet_v1(random_batch, is_training=False, depth_multiplier=1.0)\n",
    "# logits = mobilenet(random_batch, is_training=False, depth_multiplier=1.0)\n",
    "logits = DxNet(random_batch, is_training=False, num_classes=2, depth_multiplier='2.0')\n",
    "init = tf.global_variables_initializer()"
   ]
  },
  {
   "cell_type": "code",
   "execution_count": 3,
   "metadata": {
    "collapsed": false
   },
   "outputs": [
    {
     "name": "stdout",
     "output_type": "stream",
     "text": [
      "mean: 0.360535402755785 std: 0.06282253133329507\n",
      "images per second: 22.862938119007154 3.8664249555334504\n"
     ]
    }
   ],
   "source": [
    "times = []\n",
    "\n",
    "with tf.Session() as sess:\n",
    "    sess.run(init)\n",
    "    for _ in range(100):\n",
    "        start = time.perf_counter()\n",
    "        sess.run(logits)\n",
    "        times.append(time.perf_counter() - start)\n",
    "        \n",
    "times = np.array(times[10:])\n",
    "print('mean:', times.mean(), 'std:', times.std())\n",
    "\n",
    "mean = times.mean()/BATCH_SIZE\n",
    "std = times.std()/BATCH_SIZE\n",
    "images_per_second = (1/mean) + (1/(mean**3))*(std**2)\n",
    "images_per_second_std = std/(mean**2)\n",
    "\n",
    "print('images per second:', images_per_second, images_per_second_std)"
   ]
  }
 ],
 "metadata": {
  "anaconda-cloud": {},
  "kernelspec": {
   "display_name": "Python [default]",
   "language": "python",
   "name": "python3"
  },
  "language_info": {
   "codemirror_mode": {
    "name": "ipython",
    "version": 3
   },
   "file_extension": ".py",
   "mimetype": "text/x-python",
   "name": "python",
   "nbconvert_exporter": "python",
   "pygments_lexer": "ipython3",
   "version": "3.5.4"
  }
 },
 "nbformat": 4,
 "nbformat_minor": 1
}
