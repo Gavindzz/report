{
 "cells": [
  {
   "cell_type": "code",
   "execution_count": 1,
   "metadata": {
    "collapsed": true
   },
   "outputs": [],
   "source": [
    "import os\n",
    "from PIL import Image"
   ]
  },
  {
   "cell_type": "code",
   "execution_count": 4,
   "metadata": {
    "collapsed": false
   },
   "outputs": [],
   "source": [
    "# 统一图片类型，对图片格式、名称进行处理\n",
    "def renamesJPG(filepath, kind):    # 两参数分别为：文件路径及我们设置猫的种类\n",
    "    images = os.listdir(filepath)  # 遍历指定文件夹，并将所有文件存入images变量中\n",
    "    for name in images:            # 重命名后的格式为：种类_原名称.jpg\n",
    "        os.rename(filepath+name, filepath+kind+'_'+name.split('.')[0]+'.jpg')\n",
    "# 调用三次函数，分别对不同种类的猫进行处理\n",
    "renamesJPG('/home/gavin/桌面/on/','0')\n",
    "renamesJPG('/home/gavin/桌面/off/','1')"
   ]
  },
  {
   "cell_type": "code",
   "execution_count": 5,
   "metadata": {
    "collapsed": true
   },
   "outputs": [],
   "source": [
    "# 该函数可以将图片裁剪成指定大小\n",
    "def reshape(filepath ,outdir,width=100,height=100):\n",
    "    images = os.listdir(filepath)\n",
    "    for imgs in images:\n",
    "        img = Image.open(filepath+imgs)\n",
    "        try:\n",
    "            new_img = img.resize((width, height), Image.BILINEAR)\n",
    "            new_img.save(os.path.join(outdir, os.path.basename(imgs))) # 注意这里是imgs而不是img!!!\n",
    "        except Exception as e:\n",
    "            print(e)\n",
    "# 调用函数，指定传入文件和图片修改后的存储路径\n",
    "reshape(\"/home/gavin/桌面/on/\",\"/home/gavin/cov/on\")\n",
    "reshape(\"/home/gavin/桌面/off/\",\"/home/gavin/cov/off\")"
   ]
  }
 ],
 "metadata": {
  "anaconda-cloud": {},
  "kernelspec": {
   "display_name": "Python [default]",
   "language": "python",
   "name": "python3"
  },
  "language_info": {
   "codemirror_mode": {
    "name": "ipython",
    "version": 3
   },
   "file_extension": ".py",
   "mimetype": "text/x-python",
   "name": "python",
   "nbconvert_exporter": "python",
   "pygments_lexer": "ipython3",
   "version": "3.5.4"
  }
 },
 "nbformat": 4,
 "nbformat_minor": 1
}
