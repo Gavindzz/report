{
 "cells": [
  {
   "cell_type": "markdown",
   "metadata": {},
   "source": [
    "### 导入库"
   ]
  },
  {
   "cell_type": "code",
   "execution_count": 5,
   "metadata": {
    "collapsed": false
   },
   "outputs": [],
   "source": [
    "import os\n",
    "import numpy as np\n",
    "import matplotlib.pyplot as plt\n",
    "import matplotlib.image as mpimg\n",
    "import h5py\n",
    "%matplotlib inline"
   ]
  },
  {
   "cell_type": "markdown",
   "metadata": {},
   "source": [
    "### 定义函数获取数据集的路径列表与标签列表"
   ]
  },
  {
   "cell_type": "code",
   "execution_count": 6,
   "metadata": {
    "collapsed": true
   },
   "outputs": [],
   "source": [
    "def get_files(file_dir):\n",
    "    image_list = []\n",
    "    label_list = []\n",
    "    for i in range(2):\n",
    "        for file in os.listdir(file_dir + \"/{}\".format(i)):              \n",
    "            image_list.append(file_dir + \"/{}\".format(i) + \"/\"+ file)    \n",
    "            label_list.append(i)\n",
    "    temp = np.array([image_list, label_list])\n",
    "    temp = temp.transpose()\n",
    "    np.random.shuffle(temp)\n",
    "    image_list = list(temp[:, 0])\n",
    "    label_list = list(temp[:, 1].astype(np.int))\n",
    "    return image_list, label_list"
   ]
  },
  {
   "cell_type": "markdown",
   "metadata": {},
   "source": [
    "### 读取训练集/测试集的路径列表和标签列表\n",
    "**数据集文件夹命名方式：**test文件夹下包含2个子文件夹，分别命名0-1，对应2个类别，每个子文件夹包含7张图片。train文件夹下包含2个子文件夹，分别命名0-1，对应2个类别，每个子文件夹包含16张图片。"
   ]
  },
  {
   "cell_type": "code",
   "execution_count": 7,
   "metadata": {
    "collapsed": false
   },
   "outputs": [],
   "source": [
    "test_dir = \"/home/gavin/create_hdf5_dataset/datasets/cifar10/test\"\n",
    "train_dir = \"/home/gavin/create_hdf5_dataset/datasets/cifar10/train\"\n",
    "test_image_list, test_label_list = get_files(test_dir)\n",
    "train_image_list, train_label_list = get_files(train_dir)"
   ]
  },
  {
   "cell_type": "markdown",
   "metadata": {},
   "source": [
    "### 定义标签对应的类别"
   ]
  },
  {
   "cell_type": "code",
   "execution_count": 8,
   "metadata": {
    "collapsed": true
   },
   "outputs": [],
   "source": [
    "classes_list = [b'off',b'on']"
   ]
  },
  {
   "cell_type": "markdown",
   "metadata": {},
   "source": [
    "### 将所有测试集图片转换为numpy数组"
   ]
  },
  {
   "cell_type": "code",
   "execution_count": 10,
   "metadata": {
    "collapsed": false
   },
   "outputs": [],
   "source": [
    "test_image = np.zeros((len(test_image_list),591,260,3))\n",
    "test_label = np.zeros((len(test_label_list),1))\n",
    "for i in range(len(test_image_list)):\n",
    "    test_image[i] = np.array(mpimg.imread(test_image_list[i]))\n",
    "    test_label[i] = np.array(test_label_list[i])"
   ]
  },
  {
   "cell_type": "markdown",
   "metadata": {},
   "source": [
    "### 将所有训练集图片转换为numpy数组"
   ]
  },
  {
   "cell_type": "code",
   "execution_count": 11,
   "metadata": {
    "collapsed": true
   },
   "outputs": [],
   "source": [
    "train_image = np.zeros((len(train_image_list),591,260,3))\n",
    "train_label = np.zeros((len(train_label_list),1))\n",
    "for i in range(len(train_image_list)):\n",
    "    train_image[i] = np.array(mpimg.imread(train_image_list[i]))\n",
    "    train_label[i] = np.array(train_label_list[i])"
   ]
  },
  {
   "cell_type": "markdown",
   "metadata": {},
   "source": [
    "### 将测试集数据存储到h5文件"
   ]
  },
  {
   "cell_type": "code",
   "execution_count": 12,
   "metadata": {
    "collapsed": true
   },
   "outputs": [],
   "source": [
    "f = h5py.File(\"test_cifar10.h5\", \"w\")\n",
    "f.create_dataset(\"X_test\", data=test_image, dtype=np.uint8)\n",
    "f.create_dataset(\"y_test\", data=test_label, dtype=np.uint8)\n",
    "f.create_dataset(\"classes_list\", data=classes_list)\n",
    "f.close()"
   ]
  },
  {
   "cell_type": "markdown",
   "metadata": {},
   "source": [
    "### 将训练集数据存储到h5文件"
   ]
  },
  {
   "cell_type": "code",
   "execution_count": 13,
   "metadata": {
    "collapsed": true
   },
   "outputs": [],
   "source": [
    "f = h5py.File(\"train_cifar10.h5\", \"w\")\n",
    "f.create_dataset(\"X_train\", data=train_image, dtype=np.uint8)\n",
    "f.create_dataset(\"y_train\", data=train_label, dtype=np.uint8)\n",
    "f.create_dataset(\"classes_list\", data=classes_list)\n",
    "f.close()"
   ]
  },
  {
   "cell_type": "markdown",
   "metadata": {},
   "source": [
    "### 导入数据集"
   ]
  },
  {
   "cell_type": "code",
   "execution_count": 14,
   "metadata": {
    "collapsed": true
   },
   "outputs": [],
   "source": [
    "def load_dataset():\n",
    "    train_dataset = h5py.File('train_cifar10.h5', \"r\")\n",
    "    train_set_x_orig = np.array(train_dataset[\"X_train\"][:])\n",
    "    train_set_y_orig = np.array(train_dataset[\"y_train\"][:])\n",
    "\n",
    "    test_dataset = h5py.File('test_cifar10.h5', \"r\")\n",
    "    test_set_x_orig = np.array(test_dataset[\"X_test\"][:])\n",
    "    test_set_y_orig = np.array(test_dataset[\"y_test\"][:])\n",
    "\n",
    "    classes = np.array(test_dataset[\"classes_list\"][:])\n",
    "    \n",
    "    return train_set_x_orig, train_set_y_orig, test_set_x_orig, test_set_y_orig, classes"
   ]
  },
  {
   "cell_type": "code",
   "execution_count": 15,
   "metadata": {
    "collapsed": true
   },
   "outputs": [],
   "source": [
    "train_set_x_orig, train_set_y, test_set_x_orig, test_set_y, classes = load_dataset()"
   ]
  },
  {
   "cell_type": "markdown",
   "metadata": {},
   "source": [
    "### 打印数据集各个参数的大小"
   ]
  },
  {
   "cell_type": "code",
   "execution_count": 16,
   "metadata": {
    "collapsed": false
   },
   "outputs": [
    {
     "name": "stdout",
     "output_type": "stream",
     "text": [
      "(50, 591, 260, 3)\n",
      "(50, 1)\n",
      "(18, 591, 260, 3)\n",
      "(18, 1)\n",
      "(2,)\n"
     ]
    }
   ],
   "source": [
    "print(train_set_x_orig.shape)\n",
    "print(train_set_y.shape)\n",
    "print(test_set_x_orig.shape)\n",
    "print(test_set_y.shape)\n",
    "print(classes.shape)"
   ]
  },
  {
   "cell_type": "markdown",
   "metadata": {},
   "source": [
    "### 数据集测试与部分数据可视化"
   ]
  },
  {
   "cell_type": "code",
   "execution_count": 18,
   "metadata": {
    "collapsed": false
   },
   "outputs": [
    {
     "data": {
      "image/png": "[encoded data removed]",
      "text/plain": [
       "<Figure size 432x288 with 6 Axes>"
      ]
     },
     "metadata": {},
     "output_type": "display_data"
    }
   ],
   "source": [
    "list_classes = []\n",
    "for i in range(2):\n",
    "    list_classes.append(classes[i].decode('utf-8'))\n",
    "num_classes = len(list_classes)\n",
    "num_each_class = 3\n",
    "for y, cls in enumerate(list_classes):\n",
    "    idxs = np.flatnonzero(train_set_y == y)\n",
    "    idxs = np.random.choice(idxs, num_each_class, replace=False)\n",
    "    for i, idx in enumerate(idxs):\n",
    "        plt_idx = i * num_classes + (y + 1)\n",
    "        plt.subplot(num_each_class, num_classes, plt_idx)\n",
    "        plt.imshow(train_set_x_orig[idx])\n",
    "        plt.axis('off')\n",
    "        if i == 0:\n",
    "            plt.title(cls)\n",
    "plt.show()"
   ]
  }
 ],
 "metadata": {
  "anaconda-cloud": {},
  "kernelspec": {
   "display_name": "Python [conda env:anaconda3]",
   "language": "python",
   "name": "conda-env-anaconda3-py"
  },
  "language_info": {
   "codemirror_mode": {
    "name": "ipython",
    "version": 3
   },
   "file_extension": ".py",
   "mimetype": "text/x-python",
   "name": "python",
   "nbconvert_exporter": "python",
   "pygments_lexer": "ipython3",
   "version": "3.5.4"
  }
 },
 "nbformat": 4,
 "nbformat_minor": 2
}
